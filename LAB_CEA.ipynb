{
 "cells": [
  {
   "cell_type": "markdown",
   "metadata": {},
   "source": [
    "## Common Emitter Amplifier"
   ]
  },
  {
   "cell_type": "markdown",
   "metadata": {},
   "source": [
    "The first step in the procedure asks us to set the output to $3V_{PP}$ without a load ..."
   ]
  },
  {
   "cell_type": "markdown",
   "metadata": {},
   "source": [
    "Measured $V_{OUT}$ value: $3.02V_{PP}$"
   ]
  },
  {
   "cell_type": "markdown",
   "metadata": {},
   "source": [
    "Measured $V_{IN}$ value the above output: $13.486mV_{PP}$."
   ]
  },
  {
   "cell_type": "code",
   "execution_count": 1,
   "metadata": {
    "collapsed": true
   },
   "outputs": [],
   "source": [
    "Vout=3.02\n",
    "Vin=13.486E-3"
   ]
  },
  {
   "cell_type": "code",
   "execution_count": 2,
   "metadata": {
    "collapsed": true
   },
   "outputs": [],
   "source": [
    "AV_meas=Vout/Vin"
   ]
  },
  {
   "cell_type": "code",
   "execution_count": 3,
   "metadata": {
    "collapsed": false
   },
   "outputs": [
    {
     "name": "stdout",
     "output_type": "stream",
     "text": [
      "Measured voltage gain:  223.93593356072964\n"
     ]
    }
   ],
   "source": [
    "print(\"Measured voltage gain: \",AV_meas)"
   ]
  },
  {
   "cell_type": "markdown",
   "metadata": {},
   "source": [
    "#### Calculate voltage gain using procedure from lab"
   ]
  },
  {
   "cell_type": "code",
   "execution_count": 4,
   "metadata": {
    "collapsed": false
   },
   "outputs": [
    {
     "name": "stdout",
     "output_type": "stream",
     "text": [
      "Calculated voltage gain:  220.16710778393613\n"
     ]
    }
   ],
   "source": [
    "VA=60\n",
    "RC=3.3E3\n",
    "IE_meas=1.9176E-3\n",
    "ro=VA/IE_meas\n",
    "re=26E-3/IE_meas\n",
    "AV_calc=(1.0/((1.0/RC)+(1.0/ro)))/re\n",
    "print(\"Calculated voltage gain: \",AV_calc)"
   ]
  },
  {
   "cell_type": "markdown",
   "metadata": {},
   "source": [
    "#### Calculate voltage gain using slope of $V_{CE}$ vs $I_C$ curves ..."
   ]
  },
  {
   "cell_type": "code",
   "execution_count": 5,
   "metadata": {
    "collapsed": false
   },
   "outputs": [
    {
     "name": "stdout",
     "output_type": "stream",
     "text": [
      "Calculated voltage gain using curve data:  243.38769480165962\n"
     ]
    }
   ],
   "source": [
    "ro_meas=29.5729E+3\n",
    "IE_meas=1.9176E-3\n",
    "RC_meas=3.3E3\n",
    "re=26E-3/IE_meas\n",
    "AV_calc_alt=(1.0/(1.0/RC_meas)+(1.0/ro_meas))/re\n",
    "print(\"Calculated voltage gain using curve data: \",AV_calc_alt)"
   ]
  },
  {
   "cell_type": "markdown",
   "metadata": {},
   "source": [
    "#### Calculate the uncertainty of the measurement ..."
   ]
  },
  {
   "cell_type": "code",
   "execution_count": 6,
   "metadata": {
    "collapsed": false
   },
   "outputs": [
    {
     "name": "stdout",
     "output_type": "stream",
     "text": [
      "Error bar:  10.546801132761082 %\n"
     ]
    }
   ],
   "source": [
    "diff=abs(AV_calc-AV_calc_alt)/(AV_calc)*100.0\n",
    "print(\"Error bar: \",abs(diff),\"%\")"
   ]
  },
  {
   "cell_type": "markdown",
   "metadata": {},
   "source": [
    "#### Add Load resistor $R_L=10k\\Omega$ ..."
   ]
  },
  {
   "cell_type": "code",
   "execution_count": 7,
   "metadata": {
    "collapsed": false
   },
   "outputs": [
    {
     "name": "stdout",
     "output_type": "stream",
     "text": [
      "Measured voltage gain with load:  170.8438380542785\n"
     ]
    }
   ],
   "source": [
    "Vin=13.486E-3\n",
    "Vout=2.304\n",
    "AV_meas_L=Vout/Vin\n",
    "print(\"Measured voltage gain with load: \",AV_meas_L)"
   ]
  },
  {
   "cell_type": "markdown",
   "metadata": {},
   "source": [
    "#### Calculated values ..."
   ]
  },
  {
   "cell_type": "code",
   "execution_count": 8,
   "metadata": {
    "collapsed": false
   },
   "outputs": [
    {
     "name": "stdout",
     "output_type": "stream",
     "text": [
      "Calculated voltage gain:  169.4135733057283\n"
     ]
    }
   ],
   "source": [
    "VA=60\n",
    "RC=3.3E3\n",
    "IE_meas=1.9159E-3\n",
    "ro=VA/IE_meas\n",
    "re=26E-3/IE_meas\n",
    "AV_calc=(1.0/((1.0/RC)+(1.0/ro)+(1.0/10E3)))/re\n",
    "print(\"Calculated voltage gain: \",AV_calc)"
   ]
  },
  {
   "cell_type": "markdown",
   "metadata": {},
   "source": [
    "#### Remove $C_B$ ..."
   ]
  },
  {
   "cell_type": "code",
   "execution_count": 9,
   "metadata": {
    "collapsed": false
   },
   "outputs": [
    {
     "name": "stdout",
     "output_type": "stream",
     "text": [
      "Measured voltage gain without load, no bypass C:  3.244104997775471\n"
     ]
    }
   ],
   "source": [
    "Vin=13.486E-3\n",
    "Vout=43.75E-3\n",
    "AV_meas_L=Vout/Vin\n",
    "print(\"Measured voltage gain without load, no bypass C: \",AV_meas_L)"
   ]
  },
  {
   "cell_type": "code",
   "execution_count": 10,
   "metadata": {
    "collapsed": false
   },
   "outputs": [
    {
     "name": "stdout",
     "output_type": "stream",
     "text": [
      "Calculated voltage gain:  2.2861699442050396\n"
     ]
    }
   ],
   "source": [
    "VA=60\n",
    "RC=3.3E3\n",
    "IE_meas=18.03011E-6\n",
    "ro=VA/IE_meas\n",
    "re=26E-3/IE_meas\n",
    "AV_calc=(1.0/((1.0/RC)+(1.0/ro)))/re\n",
    "print(\"Calculated voltage gain: \",AV_calc)"
   ]
  },
  {
   "cell_type": "markdown",
   "metadata": {},
   "source": [
    "#### Calculate $Z_{IN}$ with $C_B$ replaced ..."
   ]
  },
  {
   "cell_type": "code",
   "execution_count": 11,
   "metadata": {
    "collapsed": false
   },
   "outputs": [
    {
     "name": "stdout",
     "output_type": "stream",
     "text": [
      "Calculated input impedance:  2292.8521118023095\n"
     ]
    }
   ],
   "source": [
    "IE_meas=1.9159E-3\n",
    "re=26.0E-3/IE_meas\n",
    "R1=56.0E3\n",
    "R2=12.0E3\n",
    "BF=220.0\n",
    "z_in=1.0/((1.0/(re*BF))+(1.0/R1)+(1.0/R2))\n",
    "print(\"Calculated input impedance: \", z_in)"
   ]
  },
  {
   "cell_type": "markdown",
   "metadata": {},
   "source": [
    "#### Calculate $Z_{OUT}$ with $C_B$ replaced ..."
   ]
  },
  {
   "cell_type": "code",
   "execution_count": 12,
   "metadata": {
    "collapsed": false
   },
   "outputs": [
    {
     "name": "stdout",
     "output_type": "stream",
     "text": [
      "Calculated output impedance:  2985.1610358689713\n"
     ]
    }
   ],
   "source": [
    "VA=60\n",
    "RC=3.3E3\n",
    "IE_meas=1.9176E-3\n",
    "ro=VA/IE_meas\n",
    "z_out=((RC*ro)/(RC+ro))\n",
    "print(\"Calculated output impedance: \", z_out)"
   ]
  },
  {
   "cell_type": "markdown",
   "metadata": {},
   "source": [
    "#### DISCUSSION"
   ]
  },
  {
   "cell_type": "markdown",
   "metadata": {},
   "source": [
    "**Question 1:** What two things did the removal of the emitter cap effect?_[sic]_<br><br>\n",
    "**Potential answers:**<br>\n",
    "1. The removal of the emitter bypass capacitor reduces voltage gain\n",
    "2. The removal of the emitter bypass capacitor increases the linearity of the amplifier\n",
    "3. Increases the high frequenc noise in the amplifier\n",
    "4. Removes the AC and DC isolation from one another\n",
    "5. Alters the Q-point for biasing"
   ]
  },
  {
   "cell_type": "markdown",
   "metadata": {},
   "source": [
    "**Question 2:** What are the advantages and disadvantages of the emitter cap?<br>\n",
    "**Potential answers:**<br>**ADVANTAGES:**<br>\n",
    "* Isolates the AC information signal from the DC bias signal\n",
    "* Creates independence between DC Q-point and AC signal\n",
    "* Acts as a HF filter for AC noise\n",
    "* Acts as a frequency shaping device for the frequency response of the amplifier<br><br>**DISADVANTAGES:**<br>\n",
    "* Reduces the voltage gain of the amplifier\n",
    "* Depending on the layout of the circuit, $C_B$ could contribute to a localized $R_{CB}L_LC_B$ tank circuits<br>\n",
    "* Introduce non-linear low-frequency effects, like distortion\n",
    "* Degrades low frequency response"
   ]
  },
  {
   "cell_type": "markdown",
   "metadata": {},
   "source": [
    "#### What's all this $V_A$ stuff anyhow?"
   ]
  },
  {
   "cell_type": "markdown",
   "metadata": {},
   "source": [
    "**Acknowledgement: This discussion would not have taken place without a weekend phone conversation with my mentor, Brian A. Freese.  Many thanks Brian for all the reminders!**"
   ]
  },
  {
   "cell_type": "markdown",
   "metadata": {},
   "source": [
    "$V_A$ is the \"Early Voltage\" for a BJT transistor.  This is named after James Early of Bell Labs and Fairchild Semiconductor.  Early voltage, also known as $V_A$ is, \"the variation in the width of the base in a bipolar junction transistor due to a variation in the applied base-to-collector voltage. A greater reverse bias across the collector–base junction, **increases** the collector–base depletion width, **decreasing** the width of the charge carrier portion of the base.<br>\n",
    "Base-narrowing has two consequences that affect the current:\n",
    "* There is a decreased probability for carrier recombination within the decreased base region<br>\n",
    "* The charge gradient (slope) is increased across the base, and consequently, the current of minority carriers injected across the emitter junction **increases**<br>"
   ]
  },
  {
   "cell_type": "markdown",
   "metadata": {},
   "source": [
    "The relationship between Collector current $I_C$ and Early voltage is,<br><br>\n",
    "$$I_C=A_E \\cdot J_{CS} \\cdot exp\\left ( \\frac{V_{BE}}{V_T} \\right )\\left ( 1+\\frac{V_{CE}}{V_A} \\right )$$.<br><br>  Where, $A_E$ is the emitter area, $J_{CS}$ is a scaled current density in the device, and is a constant term that is iversely proportional to base width, $W_B$, and $V_T$ which is the termal voltage, $$V_T=\\frac{kT}{q}$$.  "
   ]
  },
  {
   "cell_type": "markdown",
   "metadata": {},
   "source": [
    "Early voltage is measured and mathematically calculated for all BJT devices with SPICE models.  There are two parameters in a SPICE model, $V_{AF}$ and $V_{AR}$ which are the forward and reverse mode Early Voltage respectively.  In the case of the 2N2222A, used for our CEA, $VAF=104$, and $VAR=28$.  If the central point of tendency (median) between these two is found we get:"
   ]
  },
  {
   "cell_type": "markdown",
   "metadata": {},
   "source": [
    " <img src=\" CEA/VA.JPG " alt=\"Early Voltage\" height=\"640\" width=\"1024\"> "
   ]
  },
  {
   "cell_type": "code",
   "execution_count": 13,
   "metadata": {
    "collapsed": false
   },
   "outputs": [
    {
     "data": {
      "text/plain": [
       "66.0"
      ]
     },
     "execution_count": 13,
     "metadata": {},
     "output_type": "execute_result"
    }
   ],
   "source": [
    "VAF=104.0\n",
    "VAR=28.0\n",
    "m=(VAF+VAR)/2.0\n",
    "m"
   ]
  },
  {
   "cell_type": "markdown",
   "metadata": {},
   "source": [
    "... which comports nicely with the lab provided value of $V_A\\simeq60$"
   ]
  }
 ],
 "metadata": {
  "anaconda-cloud": {},
  "kernelspec": {
   "display_name": "Python [conda root]",
   "language": "python",
   "name": "conda-root-py"
  },
  "language_info": {
   "codemirror_mode": {
    "name": "ipython",
    "version": 3
   },
   "file_extension": ".py",
   "mimetype": "text/x-python",
   "name": "python",
   "nbconvert_exporter": "python",
   "pygments_lexer": "ipython3",
   "version": "3.5.2"
  }
 },
 "nbformat": 4,
 "nbformat_minor": 1
}
